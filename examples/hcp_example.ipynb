{
 "cells": [
  {
   "cell_type": "code",
   "execution_count": 8,
   "metadata": {
    "collapsed": true
   },
   "outputs": [],
   "source": [
    "import os, sys\n",
    "sys.path.append('../matplotlib_surface_plotting/')\n",
    "\n",
    "from matplotlib_surface_plotting import plot_surf\n",
    "import nibabel as nb\n",
    "import numpy as np"
   ]
  },
  {
   "cell_type": "code",
   "execution_count": 9,
   "metadata": {
    "collapsed": true
   },
   "outputs": [],
   "source": [
    "import numpy as np\n",
    "import matplotlib.pyplot as plt\n",
    "from matplotlib.collections import PolyCollection\n",
    "from matplotlib import cm\n",
    "\n",
    "def normalize_v3(arr):\n",
    "    ''' Normalize a numpy array of 3 component vectors shape=(n,3) '''\n",
    "    lens = np.sqrt( arr[:,0]**2 + arr[:,1]**2 + arr[:,2]**2 )\n",
    "    arr[:,0] /= lens\n",
    "    arr[:,1] /= lens\n",
    "    arr[:,2] /= lens                \n",
    "    return arr\n",
    "\n",
    "def normal_vectors(vertices,faces):\n",
    "    norm = np.zeros( vertices.shape, dtype=vertices.dtype )\n",
    "    tris = vertices[faces]\n",
    "    n = np.cross( tris[::,1 ] - tris[::,0]  , tris[::,2 ] - tris[::,0] )\n",
    "    n=normalize_v3(n)\n",
    "    return n\n",
    "#    norm[ faces[:,0] ] += n\n",
    "#    norm[ faces[:,1] ] += n\n",
    "#    norm[ faces[:,2] ] += n\n",
    " #   return normalize_v3(norm)\n",
    "\n",
    "\n",
    "def frustum(left, right, bottom, top, znear, zfar):\n",
    "    M = np.zeros((4, 4), dtype=np.float32)\n",
    "    M[0, 0] = +2.0 * znear / (right - left)\n",
    "    M[1, 1] = +2.0 * znear / (top - bottom)\n",
    "    M[2, 2] = -(zfar + znear) / (zfar - znear)\n",
    "    M[0, 2] = (right + left) / (right - left)\n",
    "    M[2, 1] = (top + bottom) / (top - bottom)\n",
    "    M[2, 3] = -2.0 * znear * zfar / (zfar - znear)\n",
    "    M[3, 2] = -1.0\n",
    "    return M\n",
    "\n",
    "def perspective(fovy, aspect, znear, zfar):\n",
    "    h = np.tan(0.5*np.radians(fovy)) * znear\n",
    "    w = h * aspect\n",
    "    return frustum(-w, w, -h, h, znear, zfar)\n",
    "\n",
    "def translate(x, y, z):\n",
    "    return np.array([[1, 0, 0, x], [0, 1, 0, y],\n",
    "                     [0, 0, 1, z], [0, 0, 0, 1]], dtype=float)\n",
    "\n",
    "def xrotate(theta):\n",
    "    t = np.pi * theta / 180\n",
    "    c, s = np.cos(t), np.sin(t)\n",
    "    return np.array([[1, 0,  0, 0], \n",
    "                     [0, c, -s, 0],\n",
    "                     [0, s,  c, 0], \n",
    "                     [0, 0,  0, 1]], dtype=float)\n",
    "\n",
    "def yrotate(theta):\n",
    "    t = np.pi * theta / 180\n",
    "    c, s = np.cos(t), np.sin(t)\n",
    "    return  np.array([[ c, 0, s, 0], \n",
    "                      [ 0, 1, 0, 0],\n",
    "                      [-s, 0, c, 0], \n",
    "                      [ 0, 0, 0, 1]], dtype=float)\n",
    "\n",
    "def zrotate(theta):\n",
    "    t = np.pi * theta / 180\n",
    "    c, s = np.cos(t), np.sin(t)\n",
    "    return  np.array([[ c, -s, 0, 0], \n",
    "                      [ s, c, 0, 0],\n",
    "                      [0, 0, 1, 0], \n",
    "                      [ 0, 0, 0, 1]], dtype=float)\n",
    "\n",
    "def shading_intensity(vertices,faces, light = np.array([0,0,1]),shading=0.7):\n",
    "    \"\"\"shade calculation based on light source\n",
    "       default is vertical light.\n",
    "       shading controls amount of shading.\n",
    "       Also saturates so top 20 % of vertices all have max intensity.\"\"\"\n",
    "    face_normals=normal_vectors(vertices,faces)\n",
    "    intensity = np.dot(face_normals, light)\n",
    "    intensity[np.isnan(intensity)]=1\n",
    "    shading = 0.7    \n",
    "    #top 20% all become fully coloured\n",
    "    intensity = (1-shading)+shading*(intensity-np.min(intensity))/((np.percentile(intensity,80)-np.min(intensity)))\n",
    "    #saturate\n",
    "    intensity[intensity>1]=1\n",
    "    #flat maps have lots of nans which need to become 1\n",
    "    intensity[np.isnan(intensity)]=1\n",
    "    return intensity\n",
    "\n",
    "def f7(seq):\n",
    "    #returns uniques but in order to retain neighbour triangle relationship\n",
    "    seen = set()\n",
    "    seen_add = seen.add\n",
    "    return [x for x in seq if not (x in seen or seen_add(x))];\n",
    "\n",
    "\n",
    "def get_ring_of_neighbours(island, neighbours, vertex_indices=None, ordered=False):\n",
    "    \"\"\"Calculate ring of neighbouring vertices for an island of cortex\n",
    "    If ordered, then vertices will be returned in connected order\"\"\"\n",
    "    if not vertex_indices:\n",
    "        vertex_indices=np.arange(len(island))\n",
    "    if not ordered:\n",
    "\n",
    "        neighbours_island = neighbours[island]\n",
    "        unfiltered_neighbours = []\n",
    "        for n in neighbours_island:\n",
    "            unfiltered_neighbours.extend(n)\n",
    "        unique_neighbours = np.setdiff1d(np.unique(unfiltered_neighbours), vertex_indices[island])\n",
    "        return unique_neighbours\n",
    "\n",
    "def get_neighbours_from_tris(tris, label=None):\n",
    "    \"\"\"Get surface neighbours from tris\n",
    "        Input: tris\n",
    "         Returns Nested list. Each list corresponds \n",
    "        to the ordered neighbours for the given vertex\"\"\"\n",
    "    n_vert=np.max(tris+1)\n",
    "    neighbours=[[] for i in range(n_vert)]\n",
    "    for tri in tris:\n",
    "        neighbours[tri[0]].extend([tri[1],tri[2]])\n",
    "        neighbours[tri[2]].extend([tri[0],tri[1]])\n",
    "        neighbours[tri[1]].extend([tri[2],tri[0]])\n",
    "    #Get unique neighbours\n",
    "    for k in range(len(neighbours)):      \n",
    "        if label is not None:\n",
    "            neighbours[k] = set(neighbours[k]).intersection(label)\n",
    "        else :\n",
    "            neighbours[k]=f7(neighbours[k])\n",
    "    return np.array(neighbours)\n",
    "\n",
    "def adjust_colours_pvals(colours, pvals,triangles,mask=None):\n",
    "    \"\"\"red ring around clusters and greying out non-significant vertices\"\"\"\n",
    "    if mask is not None:\n",
    "        verts_masked = mask[triangles].any(axis=1)\n",
    "        colours[verts_masked,:] = np.array([0.86,0.86,0.86,1])\n",
    "    neighbours=get_neighbours_from_tris(triangles)\n",
    "    ring=get_ring_of_neighbours(pvals<0.05,neighbours)\n",
    "    if len(ring)>0:\n",
    "        ring_label = np.zeros(len(neighbours)).astype(bool)\n",
    "        ring_label[ring]=1\n",
    "        ring=get_ring_of_neighbours(ring_label,neighbours)\n",
    "        ring_label[ring]=1\n",
    "        colours[ring_label[triangles].any(axis=1),:] = np.array([1.0,0,0,1])\n",
    "    grey_out=pvals<0.05\n",
    "    verts_grey_out= grey_out[triangles].any(axis=1)\n",
    "    colours[verts_grey_out,:] = (1.5*colours[verts_grey_out] + np.array([0.86,0.86,0.86,1]))/2.5\n",
    "    return colours\n",
    "\n",
    "def frontback(T):\n",
    "    \"\"\"\n",
    "    Sort front and back facing triangles\n",
    "    Parameters:\n",
    "    -----------\n",
    "    T : (n,3) array\n",
    "       Triangles to sort\n",
    "    Returns:\n",
    "    --------\n",
    "    front and back facing triangles as (n1,3) and (n2,3) arrays (n1+n2=n)\n",
    "    \"\"\"\n",
    "    Z = (T[:,1,0]-T[:,0,0])*(T[:,1,1]+T[:,0,1]) + \\\n",
    "        (T[:,2,0]-T[:,1,0])*(T[:,2,1]+T[:,1,1]) + \\\n",
    "        (T[:,0,0]-T[:,2,0])*(T[:,0,1]+T[:,2,1])\n",
    "    return Z < 0, Z >= 0\n",
    "\n",
    "\n",
    "\n",
    "\n",
    "def plot_surf(vertices, faces, overlay, rotate=[270,90], cmap='viridis', filename=None, label=False,\n",
    "             vmax=None, vmin=None, x_rotate=270,z_rotate=0, pvals=None, colorbar=True, title=None, mask=None, base_size=6,\n",
    "              flat_map=False,\n",
    "            ):\n",
    "    \"\"\"plot mesh surface with a given overlay\n",
    "    vertices - vertex locations\n",
    "    faces - triangles of vertex indices definings faces\n",
    "    overlay - array to be plotted\n",
    "    cmap - matplotlib colormap\n",
    "    rotate - 270 for lateral on lh, 90 for medial\n",
    "    \"\"\"\n",
    "    vertices=vertices.astype(np.float)\n",
    "    F=faces.astype(int)\n",
    "    vertices = (vertices-(vertices.max(0)+vertices.min(0))/2)/max(vertices.max(0)-vertices.min(0))\n",
    "    if not isinstance(rotate,list):\n",
    "        rotate=[rotate]\n",
    "    if not isinstance(overlay,list):\n",
    "        overlays=[overlay]\n",
    "    else:\n",
    "        overlays=overlay\n",
    "    if flat_map:\n",
    "        z_rotate=90\n",
    "        rotate=[90]\n",
    "    \n",
    "    #change light source if z is rotate\n",
    "    light = np.array([0,0,1,1]) @ yrotate(z_rotate)\n",
    "    intensity=shading_intensity(vertices, F, light=light[:3],shading=0.7)\n",
    "    print(intensity.shape)\n",
    "     #make figure dependent on rotations\n",
    "    \n",
    "    fig = plt.figure(figsize=(base_size*len(rotate)+colorbar*(base_size-2),(base_size-1)*len(overlays)))\n",
    "    if title is not None:\n",
    "        plt.title(title, fontsize=25)\n",
    "    plt.axis('off')\n",
    "    for k,overlay in enumerate(overlays):\n",
    "        #colours smoothed (mean) or median if label\n",
    "        if label:\n",
    "            colours = np.median(overlay[F],axis=1)\n",
    "        else:\n",
    "            colours = np.mean(overlay[F],axis=1)\n",
    "        if vmax is not None:\n",
    "            colours = (colours - vmin)/(vmax-vmin)\n",
    "            colours = np.clip(colours,0,1)\n",
    "        else:\n",
    "            colours = (colours - colours.min())/(colours.max()-colours.min())\n",
    "            vmax = colours.max()\n",
    "            vmin = colours.min()\n",
    "        C = plt.get_cmap(cmap)(colours) \n",
    "        if pvals is not None:\n",
    "            C = adjust_colours_pvals(C,pvals,F,mask)\n",
    "            \n",
    "            \n",
    "        #adjust intensity based on light source here\n",
    "\n",
    "        C[:,0] *= intensity\n",
    "        C[:,1] *= intensity\n",
    "        C[:,2] *= intensity\n",
    "        for i,view in enumerate(rotate):\n",
    "            MVP = perspective(25,1,1,100)  @ translate(0,0,-3) @ yrotate(view) @ zrotate(z_rotate)  @ xrotate(x_rotate) @ zrotate(270*flat_map) \n",
    "        #translate coordinates based on viewing position\n",
    "            V = np.c_[vertices, np.ones(len(vertices))]  @ MVP.T\n",
    "            \n",
    "            V /= V[:,3].reshape(-1,1)\n",
    "            \n",
    "            V = V[F]\n",
    "            \n",
    "        #triangle coordinates\n",
    "            T =  V[:,:,:2]\n",
    "        #get Z values for ordering triangle plotting\n",
    "            Z = -V[:,:,2].mean(axis=1)\n",
    "        #sort the triangles based on their z coordinate. If front/back views then need to sort a different axis\n",
    "#sort the triangles based on their z coordinate. If front/back views then need to sort a different axis\n",
    "            front, back = frontback(T)\n",
    "            T=T[front]\n",
    "            s_C = C[front]\n",
    "            Z = Z[front]\n",
    "            I = np.argsort(Z)\n",
    "            T, s_C = T[I,:], s_C[I,:]\n",
    "            ax = fig.add_subplot(len(overlays),len(rotate)+1,2*k+i+1, xlim=[-.9,+.9], ylim=[-.9,+.9],aspect=1, frameon=False,\n",
    "             xticks=[], yticks=[])\n",
    "            #s_C[:,3]=0.3\n",
    "            #print(s_C)\n",
    "            collection = PolyCollection(T, closed=True, linewidth=0,antialiased=False, facecolor=s_C)\n",
    "            collection.set_alpha(1)\n",
    "            ax.add_collection(collection)\n",
    "            plt.subplots_adjust(left =0 , right =1, top=1, bottom=0,wspace=0, hspace=0)\n",
    "    if colorbar:\n",
    "        cbar = fig.colorbar(cm.ScalarMappable( cmap=cmap), ticks=[0,0.5, 1],cax = fig.add_axes([0.7, 0.3, 0.03, 0.38]))\n",
    "        cbar.ax.set_yticklabels([np.round(vmin,decimals=2), np.round(np.mean([vmin,vmax]),decimals=2),\n",
    "                         np.round(vmax,decimals=2)])\n",
    "        cbar.ax.tick_params(labelsize=25)\n",
    "    if filename is not None:\n",
    "        fig.savefig(filename,bbox_inches = 'tight',pad_inches=0,transparent=True)\n",
    "    return \n",
    "\n",
    "\n",
    "\n"
   ]
  },
  {
   "cell_type": "code",
   "execution_count": null,
   "metadata": {
    "collapsed": true
   },
   "outputs": [],
   "source": []
  },
  {
   "cell_type": "code",
   "execution_count": 10,
   "metadata": {
    "collapsed": true
   },
   "outputs": [],
   "source": [
    "#vertices = (vertices-(vertices.max(0)+vertices.min(0))/2)/max(vertices.max(0)-vertices.min(0))\n",
    "#vertices = np.roll(vertices,1,axis=1)"
   ]
  },
  {
   "cell_type": "code",
   "execution_count": 11,
   "metadata": {
    "collapsed": true
   },
   "outputs": [],
   "source": [
    "# vector_file=nb.load('../data/MyelinMap_inflated_vectors.L.func.gii')\n",
    "# vectors=np.array([vector_file.darrays[0].data,\n",
    "#                   vector_file.darrays[1].data,\n",
    "#                   vector_file.darrays[2].data])"
   ]
  },
  {
   "cell_type": "code",
   "execution_count": 12,
   "metadata": {},
   "outputs": [],
   "source": [
    "surf=nb.load('../data/fs_LR.32k.L.inflated.surf.gii')\n",
    "vertices,faces = surf.darrays[0].data,surf.darrays[1].data"
   ]
  },
  {
   "cell_type": "code",
   "execution_count": 13,
   "metadata": {},
   "outputs": [],
   "source": [
    "overlay = nb.load('../data/S1200.MyelinMap.L.func.gii').darrays[0].data"
   ]
  },
  {
   "cell_type": "code",
   "execution_count": 14,
   "metadata": {},
   "outputs": [],
   "source": [
    "surf=nb.load('../data/fs_LR.32k.L.flat.surf.gii')\n",
    "vertices,faces = surf.darrays[0].data,surf.darrays[1].data"
   ]
  },
  {
   "cell_type": "code",
   "execution_count": 15,
   "metadata": {
    "collapsed": true
   },
   "outputs": [],
   "source": [
    "# vertices[:,2]+=vertices[:,0]\n",
    "# vertices[:,0]=0"
   ]
  },
  {
   "cell_type": "code",
   "execution_count": 16,
   "metadata": {},
   "outputs": [
    {
     "name": "stderr",
     "output_type": "stream",
     "text": [
      "/home/kwagstyl/anaconda2/envs/padl/lib/python3.7/site-packages/ipykernel_launcher.py:9: RuntimeWarning: invalid value encountered in true_divide\n",
      "  if __name__ == '__main__':\n",
      "/home/kwagstyl/anaconda2/envs/padl/lib/python3.7/site-packages/ipykernel_launcher.py:10: RuntimeWarning: invalid value encountered in true_divide\n",
      "  # Remove the CWD from sys.path while we load stuff.\n",
      "/home/kwagstyl/anaconda2/envs/padl/lib/python3.7/site-packages/ipykernel_launcher.py:11: RuntimeWarning: invalid value encountered in true_divide\n",
      "  # This is added back by InteractiveShellApp.init_path()\n",
      "/home/kwagstyl/anaconda2/envs/padl/lib/python3.7/site-packages/ipykernel_launcher.py:80: RuntimeWarning: divide by zero encountered in true_divide\n",
      "/home/kwagstyl/anaconda2/envs/padl/lib/python3.7/site-packages/ipykernel_launcher.py:80: RuntimeWarning: invalid value encountered in true_divide\n"
     ]
    },
    {
     "name": "stdout",
     "output_type": "stream",
     "text": [
      "(59013,)\n"
     ]
    },
    {
     "data": {
      "image/png": "[encoded data removed]",
      "text/plain": [
       "<Figure size 720x360 with 3 Axes>"
      ]
     },
     "metadata": {
      "needs_background": "light"
     },
     "output_type": "display_data"
    }
   ],
   "source": [
    "plot_surf(vertices,faces,overlay,rotate=90,flat_map=True,\n",
    "         vmin=1,vmax=2)"
   ]
  },
  {
   "cell_type": "code",
   "execution_count": 647,
   "metadata": {},
   "outputs": [
    {
     "data": {
      "text/plain": [
       "array([ 1.0000000e+00,  0.0000000e+00, -1.8369702e-16,  1.0000000e+00])"
      ]
     },
     "execution_count": 647,
     "metadata": {},
     "output_type": "execute_result"
    }
   ],
   "source": [
    "light = np.array([0,0,1,1]) @ yrotate(270)\n",
    "light"
   ]
  },
  {
   "cell_type": "code",
   "execution_count": 584,
   "metadata": {},
   "outputs": [
    {
     "data": {
      "text/plain": [
       "<matplotlib.collections.PathCollection at 0x7f20ad8ef2d0>"
      ]
     },
     "execution_count": 584,
     "metadata": {},
     "output_type": "execute_result"
    },
    {
     "data": {
      "image/png": "[encoded data removed]",
      "text/plain": [
       "<Figure size 432x288 with 1 Axes>"
      ]
     },
     "metadata": {
      "needs_background": "light"
     },
     "output_type": "display_data"
    }
   ],
   "source": [
    "\n",
    "plt.scatter(vertices[:,1],vertices[:,2])"
   ]
  },
  {
   "cell_type": "code",
   "execution_count": 1,
   "metadata": {},
   "outputs": [
    {
     "ename": "NameError",
     "evalue": "name 'intensity' is not defined",
     "output_type": "error",
     "traceback": [
      "\u001b[0;31m---------------------------------------------------------------------------\u001b[0m",
      "\u001b[0;31mNameError\u001b[0m                                 Traceback (most recent call last)",
      "\u001b[0;32m<ipython-input-1-8fda1f4e84b7>\u001b[0m in \u001b[0;36m<module>\u001b[0;34m\u001b[0m\n\u001b[0;32m----> 1\u001b[0;31m \u001b[0mintensity\u001b[0m\u001b[0;34m\u001b[0m\u001b[0;34m\u001b[0m\u001b[0m\n\u001b[0m",
      "\u001b[0;31mNameError\u001b[0m: name 'intensity' is not defined"
     ]
    }
   ],
   "source": [
    "intensity"
   ]
  },
  {
   "cell_type": "code",
   "execution_count": null,
   "metadata": {
    "collapsed": true
   },
   "outputs": [],
   "source": []
  }
 ],
 "metadata": {
  "kernelspec": {
   "display_name": "padl",
   "language": "python",
   "name": "padl"
  },
  "language_info": {
   "codemirror_mode": {
    "name": "ipython",
    "version": 3
   },
   "file_extension": ".py",
   "mimetype": "text/x-python",
   "name": "python",
   "nbconvert_exporter": "python",
   "pygments_lexer": "ipython3",
   "version": "3.7.4"
  }
 },
 "nbformat": 4,
 "nbformat_minor": 2
}
